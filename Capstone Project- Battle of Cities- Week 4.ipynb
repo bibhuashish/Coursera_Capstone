{
 "cells": [
  {
   "cell_type": "markdown",
   "metadata": {},
   "source": [
    "# Battle of Cities- Where and what type of  business to open in Bangalore\n",
    "\n",
    "## Business Problem Statement\n",
    "\n",
    "<h3> With an explosive growth in IT services industry since early 2000s, Bangalore have become a true cosmopolitan city where \n",
    "    you tend to find a lot of people from different region and different culture. With the inflow of skilled manpower to the \n",
    "    city, it has also witnessed a major growth in variety of businesses of all categories. For a new business to find out a \n",
    "    place to start operation, this exercise will try to build a model to suggest a localtiy and the nature of the business that \n",
    "    needs to be targetted at\n",
    "</h3>"
   ]
  },
  {
   "cell_type": "markdown",
   "metadata": {},
   "source": [
    "# DATA Requirement\n",
    "\n",
    "<h3>\n",
    "\n",
    "1. List of neighborhoods in Bangalore\n",
    "2. Latitude and longitude coordinates of the neighborhood\n",
    "3. Venue data particularly related to category of business and the poupalrity\n",
    "\n",
    "</h3>"
   ]
  },
  {
   "cell_type": "code",
   "execution_count": null,
   "metadata": {},
   "outputs": [],
   "source": []
  }
 ],
 "metadata": {
  "kernelspec": {
   "display_name": "Python 3",
   "language": "python",
   "name": "python3"
  },
  "language_info": {
   "codemirror_mode": {
    "name": "ipython",
    "version": 3
   },
   "file_extension": ".py",
   "mimetype": "text/x-python",
   "name": "python",
   "nbconvert_exporter": "python",
   "pygments_lexer": "ipython3",
   "version": "3.7.3"
  }
 },
 "nbformat": 4,
 "nbformat_minor": 2
}
